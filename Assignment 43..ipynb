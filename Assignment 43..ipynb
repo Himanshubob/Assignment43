{
 "cells": [
  {
   "cell_type": "markdown",
   "id": "cb9dad4c",
   "metadata": {},
   "source": [
    "# Q1. What are the key steps involved in building an end-to-end web application, from development to deployment on the cloud?"
   ]
  },
  {
   "cell_type": "markdown",
   "id": "4f0c4e57",
   "metadata": {},
   "source": [
    "# ans.. first create the model and  anfer that conver the pickle file  after that all pickle file tranfer the flask  \n",
    "# flask is the framke work of the python program \n",
    "# flask is file conver the  web page  \n",
    " # after that all flask file feach the github reprojectry \n",
    " # and github repojetary is convert the aws with the web page "
   ]
  },
  {
   "cell_type": "markdown",
   "id": "2612e9f9",
   "metadata": {},
   "source": [
    "# Q2. Explain the difference between traditional web hosting and cloud hosting."
   ]
  },
  {
   "cell_type": "markdown",
   "id": "ed03051c",
   "metadata": {},
   "source": [
    "# Cloud hosting offers a level of scalability that traditional hosting can't. Cloud hosting companies provide virtual space on an on-demand, as-needed basis. Instead of paying for a set amount of space upfront on a single server, the user pays as they go for what they actually use"
   ]
  },
  {
   "cell_type": "markdown",
   "id": "ce670e2f",
   "metadata": {},
   "source": [
    "# Q3. How do you choose the right cloud provider for your application deployment, and what factors should you consider?"
   ]
  },
  {
   "cell_type": "markdown",
   "id": "8f955119",
   "metadata": {},
   "source": [
    "# ans.. many type of cloud  \n",
    "# Certifications & Standards.\n",
    "# Technologies & Service Roadmap.\n",
    "# Data Security, Data Governance and Business policies.\n",
    "# Service Dependencies & Partnerships.\n",
    "# Contracts, Commercials & SLAs.\n",
    "# Reliability & Performance."
   ]
  },
  {
   "cell_type": "markdown",
   "id": "34f63c81",
   "metadata": {},
   "source": [
    "# Q4. How do you design and build a responsive user interface for your web application, and what are some best practices to follow?"
   ]
  },
  {
   "cell_type": "markdown",
   "id": "4daa70e2",
   "metadata": {},
   "source": [
    "# Responsive Design Best Practices\n",
    "# Eliminate Friction. ...\n",
    "# Design for Thumbs. ...\n",
    "# Take Advantage of Mobile Devices' Native Hardware. ...\n",
    "# Make Layouts Fluid/Adaptive by Default. ...\n",
    "# Don't Forget About Landscape Orientation. ...\n",
    "# Remember, Typography Can Be Responsive Too. ...\n",
    "# Lazy Load Non-vital Images and Videos. ...\n",
    "# Conditional Loading \n",
    "# many type of the inerface for chose the any frace"
   ]
  },
  {
   "cell_type": "markdown",
   "id": "bdaff1fa",
   "metadata": {},
   "source": [
    "# Q5. How do you integrate the machine learning model with the user interface for the Algerian Forest Fires\n",
    "# project(which we discussed in class), and what APIs or libraries can you use for this purpose?\n"
   ]
  },
  {
   "cell_type": "markdown",
   "id": "ab5e9c1e",
   "metadata": {},
   "source": [
    "#  ans. Algerian model ready in github repojetary devlop the aws  github and aws b/w   create the pipline code the pipline code all code of github repojetary feach  the aws colud .."
   ]
  },
  {
   "cell_type": "code",
   "execution_count": null,
   "id": "64f22789",
   "metadata": {},
   "outputs": [],
   "source": []
  }
 ],
 "metadata": {
  "kernelspec": {
   "display_name": "Python 3 (ipykernel)",
   "language": "python",
   "name": "python3"
  },
  "language_info": {
   "codemirror_mode": {
    "name": "ipython",
    "version": 3
   },
   "file_extension": ".py",
   "mimetype": "text/x-python",
   "name": "python",
   "nbconvert_exporter": "python",
   "pygments_lexer": "ipython3",
   "version": "3.10.9"
  }
 },
 "nbformat": 4,
 "nbformat_minor": 5
}
